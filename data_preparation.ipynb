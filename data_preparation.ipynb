{
 "cells": [
  {
   "cell_type": "code",
   "execution_count": 8,
   "metadata": {},
   "outputs": [],
   "source": [
    "import os\n",
    "\n",
    "import torch\n",
    "from torchvision import transforms, datasets"
   ]
  },
  {
   "cell_type": "code",
   "execution_count": 9,
   "metadata": {},
   "outputs": [],
   "source": [
    "device = 'cuda' if torch.cuda.is_available() else 'cpu'"
   ]
  },
  {
   "cell_type": "code",
   "execution_count": 10,
   "metadata": {},
   "outputs": [],
   "source": [
    "data_transforms = {\n",
    "    'train': transforms.Compose([\n",
    "        transforms.RandomAffine(degrees=20, translate=(0.2, 0.2), scale=(0.3, 1.2), shear=(-25, 25, -25, 25)),\n",
    "        transforms.Resize(244),\n",
    "        transforms.ToTensor()\n",
    "    ]),\n",
    "    'val': transforms.Compose([\n",
    "        transforms.RandomAffine(degrees=30, translate=(0.2, 0.2), scale=(0.3, 1.2), shear=(-25, 25, -25, 25)),\n",
    "        transforms.Resize(244),\n",
    "        transforms.ToTensor()\n",
    "    ]),\n",
    "    'test': transforms.Compose([\n",
    "        transforms.Resize(244),\n",
    "        transforms.ToTensor()\n",
    "    ])\n",
    "}"
   ]
  },
  {
   "cell_type": "markdown",
   "metadata": {},
   "source": [
    "ENGLISH"
   ]
  },
  {
   "cell_type": "code",
   "execution_count": 20,
   "metadata": {},
   "outputs": [],
   "source": [
    "class_names = [chr(j) for j in range(97, 123)]\n",
    "\n",
    "data_dir = './lat'\n",
    "img_datasets = {x: datasets.ImageFolder(os.path.join(data_dir, x), data_transforms[x])\n",
    "                for x in ['train', 'val', 'test']}\n",
    "\n",
    "dataloaders = {x: torch.utils.data.DataLoader(img_datasets[x], batch_size=64, shuffle=True, num_workers=2)\n",
    "                for x in ['train', 'val', 'test']}\n",
    "\n",
    "\n",
    "\n",
    "dataset_sizes = {x: len(img_datasets[x]) for x in ['train', 'val', 'test']}\n",
    "class_names = img_datasets['train'].classes"
   ]
  },
  {
   "cell_type": "markdown",
   "metadata": {},
   "source": [
    "RUSSIAN"
   ]
  },
  {
   "cell_type": "code",
   "execution_count": 6,
   "metadata": {},
   "outputs": [
    {
     "name": "stdout",
     "output_type": "stream",
     "text": [
      "['а', 'б', 'в', 'г', 'д', 'е', 'ж', 'з', 'и', 'й', 'к', 'л', 'м', 'н', 'о', 'п', 'р', 'с', 'т', 'у', 'ф', 'х', 'ц', 'ч', 'ш', 'щ', 'ъ', 'ы', 'ь', 'э', 'ю', 'я']\n"
     ]
    },
    {
     "data": {
      "text/plain": [
       "32"
      ]
     },
     "execution_count": 6,
     "metadata": {},
     "output_type": "execute_result"
    }
   ],
   "source": [
    "print([chr(j) for j in range(1072, 1104) if chr(j) not in ['ё']])\n",
    "len([chr(j) for j in range(1072, 1104) if chr(j) not in ['ё']])"
   ]
  },
  {
   "cell_type": "code",
   "execution_count": 11,
   "metadata": {},
   "outputs": [],
   "source": [
    "class_names_rus = [chr(j) for j in range(1072, 1104) if chr(j) not in ['ё']]\n",
    "\n",
    "data_dir_rus = './rus'\n",
    "img_datasets_rus = {x: datasets.ImageFolder(os.path.join(data_dir_rus, x), data_transforms[x])\n",
    "                for x in ['train', 'val']}\n",
    "\n",
    "dataloaders_rus = {x: torch.utils.data.DataLoader(img_datasets_rus[x], batch_size=64, shuffle=True, num_workers=2)\n",
    "                for x in ['train', 'val']}\n",
    "\n",
    "dataset_sizes_rus = {x: len(img_datasets_rus[x]) for x in ['train', 'val']}\n",
    "class_names_rus = img_datasets_rus['train'].classes"
   ]
  }
 ],
 "metadata": {
  "kernelspec": {
   "display_name": "Python 3",
   "language": "python",
   "name": "python3"
  },
  "language_info": {
   "codemirror_mode": {
    "name": "ipython",
    "version": 3
   },
   "file_extension": ".py",
   "mimetype": "text/x-python",
   "name": "python",
   "nbconvert_exporter": "python",
   "pygments_lexer": "ipython3",
   "version": "3.8.0"
  }
 },
 "nbformat": 4,
 "nbformat_minor": 2
}
